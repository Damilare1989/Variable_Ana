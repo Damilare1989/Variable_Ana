{
 "cells": [
  {
   "cell_type": "markdown",
   "metadata": {},
   "source": [
    "Ask Richard if all the variables were created by the ICG gender or if the were detemined by the organisation. If they were created by default by the vendor, ask if there is a data dictionary manual."
   ]
  },
  {
   "cell_type": "markdown",
   "metadata": {},
   "source": [
    "Date: 14/02 - 21/02"
   ]
  },
  {
   "cell_type": "code",
   "execution_count": 1,
   "metadata": {},
   "outputs": [],
   "source": [
    "import pandas as pd\n",
    "import numpy as np\n",
    "import matplotlib.pyplot as plt\n",
    "import seaborn as sns"
   ]
  },
  {
   "cell_type": "code",
   "execution_count": 2,
   "metadata": {},
   "outputs": [
    {
     "name": "stdout",
     "output_type": "stream",
     "text": [
      "WARNING *** file size (39774881) not 512 + multiple of sector size (512)\n"
     ]
    }
   ],
   "source": [
    "sales = pd.read_excel('two_weeks_sales.xls')"
   ]
  },
  {
   "cell_type": "code",
   "execution_count": 3,
   "metadata": {},
   "outputs": [
    {
     "data": {
      "text/html": [
       "<div>\n",
       "<style scoped>\n",
       "    .dataframe tbody tr th:only-of-type {\n",
       "        vertical-align: middle;\n",
       "    }\n",
       "\n",
       "    .dataframe tbody tr th {\n",
       "        vertical-align: top;\n",
       "    }\n",
       "\n",
       "    .dataframe thead th {\n",
       "        text-align: right;\n",
       "    }\n",
       "</style>\n",
       "<table border=\"1\" class=\"dataframe\">\n",
       "  <thead>\n",
       "    <tr style=\"text-align: right;\">\n",
       "      <th></th>\n",
       "      <th>Related Fields</th>\n",
       "      <th>Unnamed: 1</th>\n",
       "      <th>Unnamed: 2</th>\n",
       "      <th>Unnamed: 3</th>\n",
       "      <th>Unnamed: 4</th>\n",
       "      <th>Unnamed: 5</th>\n",
       "      <th>Unnamed: 6</th>\n",
       "      <th>Unnamed: 7</th>\n",
       "      <th>Unnamed: 8</th>\n",
       "      <th>Unnamed: 9</th>\n",
       "      <th>...</th>\n",
       "      <th>Sales: (15/02/2021,28/02/2021)</th>\n",
       "      <th>Unnamed: 63</th>\n",
       "      <th>Unnamed: 64</th>\n",
       "      <th>Unnamed: 65</th>\n",
       "      <th>Unnamed: 66</th>\n",
       "      <th>Unnamed: 67</th>\n",
       "      <th>Unnamed: 68</th>\n",
       "      <th>Unnamed: 69</th>\n",
       "      <th>Unnamed: 70</th>\n",
       "      <th>Unnamed: 71</th>\n",
       "    </tr>\n",
       "  </thead>\n",
       "  <tbody>\n",
       "    <tr>\n",
       "      <th>0</th>\n",
       "      <td>Code</td>\n",
       "      <td>Description</td>\n",
       "      <td>Additional Description</td>\n",
       "      <td>Bar Code</td>\n",
       "      <td>Bar Code 2</td>\n",
       "      <td>Bar Code 3</td>\n",
       "      <td>Serial Number 2</td>\n",
       "      <td>Serial Number 3</td>\n",
       "      <td>Department</td>\n",
       "      <td>Section</td>\n",
       "      <td>...</td>\n",
       "      <td>Qty</td>\n",
       "      <td>AMOUNT</td>\n",
       "      <td>Cost</td>\n",
       "      <td>% M/S</td>\n",
       "      <td>% M/C</td>\n",
       "      <td>Profit</td>\n",
       "      <td>Documents Num</td>\n",
       "      <td>Num. Clients</td>\n",
       "      <td>Weight</td>\n",
       "      <td>UdMedida2</td>\n",
       "    </tr>\n",
       "    <tr>\n",
       "      <th>1</th>\n",
       "      <td>1</td>\n",
       "      <td>PRESCHOOL FISHERS PRICE</td>\n",
       "      <td>NaN</td>\n",
       "      <td>030099499614</td>\n",
       "      <td>030099499621</td>\n",
       "      <td>NaN</td>\n",
       "      <td>030099499621</td>\n",
       "      <td>NaN</td>\n",
       "      <td>BOOKSHOP</td>\n",
       "      <td>BOOKS</td>\n",
       "      <td>...</td>\n",
       "      <td>0</td>\n",
       "      <td>0</td>\n",
       "      <td>0</td>\n",
       "      <td>0</td>\n",
       "      <td>0</td>\n",
       "      <td>0</td>\n",
       "      <td>0</td>\n",
       "      <td>0</td>\n",
       "      <td>0</td>\n",
       "      <td>0</td>\n",
       "    </tr>\n",
       "    <tr>\n",
       "      <th>2</th>\n",
       "      <td>3</td>\n",
       "      <td>NOVA NATURAL HOLD HAIR SPRAY 450ML</td>\n",
       "      <td>NaN</td>\n",
       "      <td>5021156120683</td>\n",
       "      <td>NaN</td>\n",
       "      <td>NaN</td>\n",
       "      <td>NaN</td>\n",
       "      <td>NaN</td>\n",
       "      <td>TOILETRIES</td>\n",
       "      <td>PERSONAL CARE</td>\n",
       "      <td>...</td>\n",
       "      <td>3</td>\n",
       "      <td>4320</td>\n",
       "      <td>3000</td>\n",
       "      <td>30.5556</td>\n",
       "      <td>44</td>\n",
       "      <td>1320</td>\n",
       "      <td>3</td>\n",
       "      <td>2</td>\n",
       "      <td>0</td>\n",
       "      <td>0</td>\n",
       "    </tr>\n",
       "    <tr>\n",
       "      <th>3</th>\n",
       "      <td>6</td>\n",
       "      <td>KINDERGARTEN  FISHERS PRICE</td>\n",
       "      <td>NaN</td>\n",
       "      <td>030099499638</td>\n",
       "      <td>030099499645</td>\n",
       "      <td>NaN</td>\n",
       "      <td>030099499645</td>\n",
       "      <td>NaN</td>\n",
       "      <td>BOOKSHOP</td>\n",
       "      <td>BOOKS</td>\n",
       "      <td>...</td>\n",
       "      <td>0</td>\n",
       "      <td>0</td>\n",
       "      <td>0</td>\n",
       "      <td>0</td>\n",
       "      <td>0</td>\n",
       "      <td>0</td>\n",
       "      <td>0</td>\n",
       "      <td>0</td>\n",
       "      <td>0</td>\n",
       "      <td>0</td>\n",
       "    </tr>\n",
       "    <tr>\n",
       "      <th>4</th>\n",
       "      <td>12</td>\n",
       "      <td>SMART CHEF 8'' PLASTIC STRAINER CH82255</td>\n",
       "      <td>NaN</td>\n",
       "      <td>676979822556</td>\n",
       "      <td>NaN</td>\n",
       "      <td>NaN</td>\n",
       "      <td>NaN</td>\n",
       "      <td>NaN</td>\n",
       "      <td>HOUSEHOLD</td>\n",
       "      <td>KITCHEN &amp; DINNING</td>\n",
       "      <td>...</td>\n",
       "      <td>0</td>\n",
       "      <td>0</td>\n",
       "      <td>0</td>\n",
       "      <td>0</td>\n",
       "      <td>0</td>\n",
       "      <td>0</td>\n",
       "      <td>0</td>\n",
       "      <td>0</td>\n",
       "      <td>0</td>\n",
       "      <td>0</td>\n",
       "    </tr>\n",
       "  </tbody>\n",
       "</table>\n",
       "<p>5 rows × 72 columns</p>\n",
       "</div>"
      ],
      "text/plain": [
       "  Related Fields                               Unnamed: 1  \\\n",
       "0           Code                              Description   \n",
       "1              1                  PRESCHOOL FISHERS PRICE   \n",
       "2              3       NOVA NATURAL HOLD HAIR SPRAY 450ML   \n",
       "3              6              KINDERGARTEN  FISHERS PRICE   \n",
       "4             12  SMART CHEF 8'' PLASTIC STRAINER CH82255   \n",
       "\n",
       "               Unnamed: 2     Unnamed: 3    Unnamed: 4  Unnamed: 5  \\\n",
       "0  Additional Description       Bar Code    Bar Code 2  Bar Code 3   \n",
       "1                     NaN   030099499614  030099499621         NaN   \n",
       "2                     NaN  5021156120683           NaN         NaN   \n",
       "3                     NaN   030099499638  030099499645         NaN   \n",
       "4                     NaN   676979822556           NaN         NaN   \n",
       "\n",
       "        Unnamed: 6       Unnamed: 7  Unnamed: 8         Unnamed: 9  ...  \\\n",
       "0  Serial Number 2  Serial Number 3  Department            Section  ...   \n",
       "1     030099499621              NaN    BOOKSHOP              BOOKS  ...   \n",
       "2              NaN              NaN  TOILETRIES      PERSONAL CARE  ...   \n",
       "3     030099499645              NaN    BOOKSHOP              BOOKS  ...   \n",
       "4              NaN              NaN   HOUSEHOLD  KITCHEN & DINNING  ...   \n",
       "\n",
       "  Sales: (15/02/2021,28/02/2021) Unnamed: 63 Unnamed: 64 Unnamed: 65  \\\n",
       "0                            Qty      AMOUNT        Cost       % M/S   \n",
       "1                              0           0           0           0   \n",
       "2                              3        4320        3000     30.5556   \n",
       "3                              0           0           0           0   \n",
       "4                              0           0           0           0   \n",
       "\n",
       "  Unnamed: 66 Unnamed: 67    Unnamed: 68   Unnamed: 69 Unnamed: 70 Unnamed: 71  \n",
       "0       % M/C      Profit  Documents Num  Num. Clients      Weight   UdMedida2  \n",
       "1           0           0              0             0           0           0  \n",
       "2          44        1320              3             2           0           0  \n",
       "3           0           0              0             0           0           0  \n",
       "4           0           0              0             0           0           0  \n",
       "\n",
       "[5 rows x 72 columns]"
      ]
     },
     "execution_count": 3,
     "metadata": {},
     "output_type": "execute_result"
    }
   ],
   "source": [
    "sales.head()"
   ]
  },
  {
   "cell_type": "code",
   "execution_count": 4,
   "metadata": {},
   "outputs": [
    {
     "data": {
      "text/html": [
       "<div>\n",
       "<style scoped>\n",
       "    .dataframe tbody tr th:only-of-type {\n",
       "        vertical-align: middle;\n",
       "    }\n",
       "\n",
       "    .dataframe tbody tr th {\n",
       "        vertical-align: top;\n",
       "    }\n",
       "\n",
       "    .dataframe thead th {\n",
       "        text-align: right;\n",
       "    }\n",
       "</style>\n",
       "<table border=\"1\" class=\"dataframe\">\n",
       "  <thead>\n",
       "    <tr style=\"text-align: right;\">\n",
       "      <th></th>\n",
       "      <th>Related Fields</th>\n",
       "      <th>Unnamed: 1</th>\n",
       "      <th>Unnamed: 2</th>\n",
       "      <th>Unnamed: 3</th>\n",
       "      <th>Unnamed: 4</th>\n",
       "      <th>Unnamed: 5</th>\n",
       "      <th>Unnamed: 6</th>\n",
       "      <th>Unnamed: 7</th>\n",
       "      <th>Unnamed: 8</th>\n",
       "      <th>Unnamed: 9</th>\n",
       "      <th>...</th>\n",
       "      <th>Sales: (15/02/2021,28/02/2021)</th>\n",
       "      <th>Unnamed: 63</th>\n",
       "      <th>Unnamed: 64</th>\n",
       "      <th>Unnamed: 65</th>\n",
       "      <th>Unnamed: 66</th>\n",
       "      <th>Unnamed: 67</th>\n",
       "      <th>Unnamed: 68</th>\n",
       "      <th>Unnamed: 69</th>\n",
       "      <th>Unnamed: 70</th>\n",
       "      <th>Unnamed: 71</th>\n",
       "    </tr>\n",
       "  </thead>\n",
       "  <tbody>\n",
       "    <tr>\n",
       "      <th>16955</th>\n",
       "      <td>55554</td>\n",
       "      <td>TOY A330 AIRLINE</td>\n",
       "      <td>NaN</td>\n",
       "      <td>5002553</td>\n",
       "      <td>NaN</td>\n",
       "      <td>9995002553</td>\n",
       "      <td>NaN</td>\n",
       "      <td>9995002553</td>\n",
       "      <td>TOYS</td>\n",
       "      <td>PLAY TOYS</td>\n",
       "      <td>...</td>\n",
       "      <td>0</td>\n",
       "      <td>0</td>\n",
       "      <td>0</td>\n",
       "      <td>0</td>\n",
       "      <td>0</td>\n",
       "      <td>0</td>\n",
       "      <td>0</td>\n",
       "      <td>0</td>\n",
       "      <td>0</td>\n",
       "      <td>0</td>\n",
       "    </tr>\n",
       "    <tr>\n",
       "      <th>19660</th>\n",
       "      <td>59094</td>\n",
       "      <td>TOY DOLL YONG BABY SHOP CXY555032</td>\n",
       "      <td>NaN</td>\n",
       "      <td>5262121002072</td>\n",
       "      <td>NaN</td>\n",
       "      <td>NaN</td>\n",
       "      <td>NaN</td>\n",
       "      <td>NaN</td>\n",
       "      <td>TOYS</td>\n",
       "      <td>PLAY TOYS</td>\n",
       "      <td>...</td>\n",
       "      <td>0</td>\n",
       "      <td>0</td>\n",
       "      <td>0</td>\n",
       "      <td>0</td>\n",
       "      <td>0</td>\n",
       "      <td>0</td>\n",
       "      <td>0</td>\n",
       "      <td>0</td>\n",
       "      <td>0</td>\n",
       "      <td>0</td>\n",
       "    </tr>\n",
       "    <tr>\n",
       "      <th>10700</th>\n",
       "      <td>45782</td>\n",
       "      <td>KIRKLANDSIGN ORGANIC SOYMILK VANILL 946M</td>\n",
       "      <td>NaN</td>\n",
       "      <td>096619998616</td>\n",
       "      <td>NaN</td>\n",
       "      <td>NaN</td>\n",
       "      <td>NaN</td>\n",
       "      <td>NaN</td>\n",
       "      <td>GROCERY</td>\n",
       "      <td>DRINKS</td>\n",
       "      <td>...</td>\n",
       "      <td>27</td>\n",
       "      <td>40587.5</td>\n",
       "      <td>26625</td>\n",
       "      <td>34.401</td>\n",
       "      <td>52.4413</td>\n",
       "      <td>13962.5</td>\n",
       "      <td>23</td>\n",
       "      <td>6</td>\n",
       "      <td>0</td>\n",
       "      <td>0</td>\n",
       "    </tr>\n",
       "    <tr>\n",
       "      <th>14878</th>\n",
       "      <td>52599</td>\n",
       "      <td>FLAVIA PERFUME SPRAY MEN  200ML</td>\n",
       "      <td>NaN</td>\n",
       "      <td>6294015105971</td>\n",
       "      <td>NaN</td>\n",
       "      <td>NaN</td>\n",
       "      <td>NaN</td>\n",
       "      <td>NaN</td>\n",
       "      <td>HEALTH &amp; BEAUTY PRODUCTS</td>\n",
       "      <td>DEODRANT/ROLL ON</td>\n",
       "      <td>...</td>\n",
       "      <td>0</td>\n",
       "      <td>0</td>\n",
       "      <td>0</td>\n",
       "      <td>0</td>\n",
       "      <td>0</td>\n",
       "      <td>0</td>\n",
       "      <td>0</td>\n",
       "      <td>0</td>\n",
       "      <td>0</td>\n",
       "      <td>0</td>\n",
       "    </tr>\n",
       "    <tr>\n",
       "      <th>7922</th>\n",
       "      <td>39388</td>\n",
       "      <td>ORAL CARE KIT SPRING FRESH B/S</td>\n",
       "      <td>NaN</td>\n",
       "      <td>6291103079893</td>\n",
       "      <td>NaN</td>\n",
       "      <td>NaN</td>\n",
       "      <td>NaN</td>\n",
       "      <td>NaN</td>\n",
       "      <td>TOILETRIES</td>\n",
       "      <td>PERSONAL CARE</td>\n",
       "      <td>...</td>\n",
       "      <td>0</td>\n",
       "      <td>0</td>\n",
       "      <td>0</td>\n",
       "      <td>0</td>\n",
       "      <td>0</td>\n",
       "      <td>0</td>\n",
       "      <td>0</td>\n",
       "      <td>0</td>\n",
       "      <td>0</td>\n",
       "      <td>0</td>\n",
       "    </tr>\n",
       "    <tr>\n",
       "      <th>12499</th>\n",
       "      <td>48966</td>\n",
       "      <td>KARIS NATURAL ORANGE LOTION 400M</td>\n",
       "      <td>NaN</td>\n",
       "      <td>8904035418316</td>\n",
       "      <td>NaN</td>\n",
       "      <td>NaN</td>\n",
       "      <td>NaN</td>\n",
       "      <td>NaN</td>\n",
       "      <td>TOILETRIES</td>\n",
       "      <td>PERSONAL CARE</td>\n",
       "      <td>...</td>\n",
       "      <td>5</td>\n",
       "      <td>6050.7</td>\n",
       "      <td>3541.67</td>\n",
       "      <td>41.4668</td>\n",
       "      <td>70.8433</td>\n",
       "      <td>2509.03</td>\n",
       "      <td>6</td>\n",
       "      <td>2</td>\n",
       "      <td>0</td>\n",
       "      <td>0</td>\n",
       "    </tr>\n",
       "    <tr>\n",
       "      <th>9807</th>\n",
       "      <td>44113</td>\n",
       "      <td>THE TRADER'S DREAM ANNA JACOBS</td>\n",
       "      <td>NaN</td>\n",
       "      <td>9781444711325</td>\n",
       "      <td>NaN</td>\n",
       "      <td>NaN</td>\n",
       "      <td>NaN</td>\n",
       "      <td>NaN</td>\n",
       "      <td>BOOKSHOP</td>\n",
       "      <td>BOOKS</td>\n",
       "      <td>...</td>\n",
       "      <td>0</td>\n",
       "      <td>0</td>\n",
       "      <td>0</td>\n",
       "      <td>0</td>\n",
       "      <td>0</td>\n",
       "      <td>0</td>\n",
       "      <td>0</td>\n",
       "      <td>0</td>\n",
       "      <td>0</td>\n",
       "      <td>0</td>\n",
       "    </tr>\n",
       "  </tbody>\n",
       "</table>\n",
       "<p>7 rows × 72 columns</p>\n",
       "</div>"
      ],
      "text/plain": [
       "      Related Fields                                Unnamed: 1 Unnamed: 2  \\\n",
       "16955          55554                          TOY A330 AIRLINE        NaN   \n",
       "19660          59094         TOY DOLL YONG BABY SHOP CXY555032        NaN   \n",
       "10700          45782  KIRKLANDSIGN ORGANIC SOYMILK VANILL 946M        NaN   \n",
       "14878          52599           FLAVIA PERFUME SPRAY MEN  200ML        NaN   \n",
       "7922           39388            ORAL CARE KIT SPRING FRESH B/S        NaN   \n",
       "12499          48966          KARIS NATURAL ORANGE LOTION 400M        NaN   \n",
       "9807           44113            THE TRADER'S DREAM ANNA JACOBS        NaN   \n",
       "\n",
       "          Unnamed: 3 Unnamed: 4  Unnamed: 5 Unnamed: 6  Unnamed: 7  \\\n",
       "16955        5002553        NaN  9995002553        NaN  9995002553   \n",
       "19660  5262121002072        NaN         NaN        NaN         NaN   \n",
       "10700   096619998616        NaN         NaN        NaN         NaN   \n",
       "14878  6294015105971        NaN         NaN        NaN         NaN   \n",
       "7922   6291103079893        NaN         NaN        NaN         NaN   \n",
       "12499  8904035418316        NaN         NaN        NaN         NaN   \n",
       "9807   9781444711325        NaN         NaN        NaN         NaN   \n",
       "\n",
       "                     Unnamed: 8        Unnamed: 9  ...  \\\n",
       "16955                      TOYS         PLAY TOYS  ...   \n",
       "19660                      TOYS         PLAY TOYS  ...   \n",
       "10700                   GROCERY            DRINKS  ...   \n",
       "14878  HEALTH & BEAUTY PRODUCTS  DEODRANT/ROLL ON  ...   \n",
       "7922                 TOILETRIES     PERSONAL CARE  ...   \n",
       "12499                TOILETRIES     PERSONAL CARE  ...   \n",
       "9807                   BOOKSHOP             BOOKS  ...   \n",
       "\n",
       "      Sales: (15/02/2021,28/02/2021) Unnamed: 63 Unnamed: 64 Unnamed: 65  \\\n",
       "16955                              0           0           0           0   \n",
       "19660                              0           0           0           0   \n",
       "10700                             27     40587.5       26625      34.401   \n",
       "14878                              0           0           0           0   \n",
       "7922                               0           0           0           0   \n",
       "12499                              5      6050.7     3541.67     41.4668   \n",
       "9807                               0           0           0           0   \n",
       "\n",
       "      Unnamed: 66 Unnamed: 67 Unnamed: 68 Unnamed: 69 Unnamed: 70 Unnamed: 71  \n",
       "16955           0           0           0           0           0           0  \n",
       "19660           0           0           0           0           0           0  \n",
       "10700     52.4413     13962.5          23           6           0           0  \n",
       "14878           0           0           0           0           0           0  \n",
       "7922            0           0           0           0           0           0  \n",
       "12499     70.8433     2509.03           6           2           0           0  \n",
       "9807            0           0           0           0           0           0  \n",
       "\n",
       "[7 rows x 72 columns]"
      ]
     },
     "execution_count": 4,
     "metadata": {},
     "output_type": "execute_result"
    }
   ],
   "source": [
    "sales.sample(7)"
   ]
  },
  {
   "cell_type": "code",
   "execution_count": 5,
   "metadata": {},
   "outputs": [],
   "source": [
    "sales.columns = ['Code', 'Description', 'Additional Description', 'Bar Code',\n",
    "       'Bar Code 2', 'Bar Code 3', 'Serial Number 2', 'Serial Number 3',\n",
    "       'Department', 'Section', 'Family', 'SubFamily', 'Brand', 'Line',\n",
    "       'Reference', 'Propiedad 1', 'Propiedad 2', 'Propiedad 3', 'Measure',\n",
    "       'UP1', 'UP2', 'UP3', 'UP4', 'UT ', 'US1', 'US2', 'US3', 'US4', 'SC?',\n",
    "       'Weight?', 'NumSeries?', 'It has Serial Numbers', 'Item Type', 'Unlist',\n",
    "       'Kit items', 'Date LP', 'Price LP', 'Price', '%Disc LP',\n",
    "       'Last header discount', 'Last cost', 'Average Cost', 'Stock cost',\n",
    "       'Manufacturing', 'Date LS', 'Date Modif', 'Type', 'Purchase Tax',\n",
    "       'Sale Tax', 'Purchase Acco.Entry', 'Sale Acco. Entry',\n",
    "       'Purchase Warranty', 'Sale Warranty', 'Currency Code', 'Currency',\n",
    "       'Picture', 'Season', 'Weight', 'Format', 'Measure 2', 'Charge 1',\n",
    "       'Charge 2', 'Qty', 'AMOUNT', 'Cost', '% M/S', '% M/C', 'Profit',\n",
    "       'Documents Num', 'Num. Clients', 'Weight', 'UdMedida2']"
   ]
  },
  {
   "cell_type": "code",
   "execution_count": 6,
   "metadata": {},
   "outputs": [],
   "source": [
    "sales.drop([0], axis = 0, inplace = True) "
   ]
  },
  {
   "cell_type": "code",
   "execution_count": 7,
   "metadata": {},
   "outputs": [
    {
     "data": {
      "text/html": [
       "<div>\n",
       "<style scoped>\n",
       "    .dataframe tbody tr th:only-of-type {\n",
       "        vertical-align: middle;\n",
       "    }\n",
       "\n",
       "    .dataframe tbody tr th {\n",
       "        vertical-align: top;\n",
       "    }\n",
       "\n",
       "    .dataframe thead th {\n",
       "        text-align: right;\n",
       "    }\n",
       "</style>\n",
       "<table border=\"1\" class=\"dataframe\">\n",
       "  <thead>\n",
       "    <tr style=\"text-align: right;\">\n",
       "      <th></th>\n",
       "      <th>Code</th>\n",
       "      <th>Description</th>\n",
       "      <th>Additional Description</th>\n",
       "      <th>Bar Code</th>\n",
       "      <th>Bar Code 2</th>\n",
       "      <th>Bar Code 3</th>\n",
       "      <th>Serial Number 2</th>\n",
       "      <th>Serial Number 3</th>\n",
       "      <th>Department</th>\n",
       "      <th>Section</th>\n",
       "      <th>...</th>\n",
       "      <th>Qty</th>\n",
       "      <th>AMOUNT</th>\n",
       "      <th>Cost</th>\n",
       "      <th>% M/S</th>\n",
       "      <th>% M/C</th>\n",
       "      <th>Profit</th>\n",
       "      <th>Documents Num</th>\n",
       "      <th>Num. Clients</th>\n",
       "      <th>Weight</th>\n",
       "      <th>UdMedida2</th>\n",
       "    </tr>\n",
       "  </thead>\n",
       "  <tbody>\n",
       "    <tr>\n",
       "      <th>1</th>\n",
       "      <td>1</td>\n",
       "      <td>PRESCHOOL FISHERS PRICE</td>\n",
       "      <td>NaN</td>\n",
       "      <td>030099499614</td>\n",
       "      <td>030099499621</td>\n",
       "      <td>NaN</td>\n",
       "      <td>030099499621</td>\n",
       "      <td>NaN</td>\n",
       "      <td>BOOKSHOP</td>\n",
       "      <td>BOOKS</td>\n",
       "      <td>...</td>\n",
       "      <td>0</td>\n",
       "      <td>0</td>\n",
       "      <td>0</td>\n",
       "      <td>0</td>\n",
       "      <td>0</td>\n",
       "      <td>0</td>\n",
       "      <td>0</td>\n",
       "      <td>0</td>\n",
       "      <td>0</td>\n",
       "      <td>0</td>\n",
       "    </tr>\n",
       "    <tr>\n",
       "      <th>2</th>\n",
       "      <td>3</td>\n",
       "      <td>NOVA NATURAL HOLD HAIR SPRAY 450ML</td>\n",
       "      <td>NaN</td>\n",
       "      <td>5021156120683</td>\n",
       "      <td>NaN</td>\n",
       "      <td>NaN</td>\n",
       "      <td>NaN</td>\n",
       "      <td>NaN</td>\n",
       "      <td>TOILETRIES</td>\n",
       "      <td>PERSONAL CARE</td>\n",
       "      <td>...</td>\n",
       "      <td>3</td>\n",
       "      <td>4320</td>\n",
       "      <td>3000</td>\n",
       "      <td>30.5556</td>\n",
       "      <td>44</td>\n",
       "      <td>1320</td>\n",
       "      <td>3</td>\n",
       "      <td>2</td>\n",
       "      <td>0</td>\n",
       "      <td>0</td>\n",
       "    </tr>\n",
       "    <tr>\n",
       "      <th>3</th>\n",
       "      <td>6</td>\n",
       "      <td>KINDERGARTEN  FISHERS PRICE</td>\n",
       "      <td>NaN</td>\n",
       "      <td>030099499638</td>\n",
       "      <td>030099499645</td>\n",
       "      <td>NaN</td>\n",
       "      <td>030099499645</td>\n",
       "      <td>NaN</td>\n",
       "      <td>BOOKSHOP</td>\n",
       "      <td>BOOKS</td>\n",
       "      <td>...</td>\n",
       "      <td>0</td>\n",
       "      <td>0</td>\n",
       "      <td>0</td>\n",
       "      <td>0</td>\n",
       "      <td>0</td>\n",
       "      <td>0</td>\n",
       "      <td>0</td>\n",
       "      <td>0</td>\n",
       "      <td>0</td>\n",
       "      <td>0</td>\n",
       "    </tr>\n",
       "    <tr>\n",
       "      <th>4</th>\n",
       "      <td>12</td>\n",
       "      <td>SMART CHEF 8'' PLASTIC STRAINER CH82255</td>\n",
       "      <td>NaN</td>\n",
       "      <td>676979822556</td>\n",
       "      <td>NaN</td>\n",
       "      <td>NaN</td>\n",
       "      <td>NaN</td>\n",
       "      <td>NaN</td>\n",
       "      <td>HOUSEHOLD</td>\n",
       "      <td>KITCHEN &amp; DINNING</td>\n",
       "      <td>...</td>\n",
       "      <td>0</td>\n",
       "      <td>0</td>\n",
       "      <td>0</td>\n",
       "      <td>0</td>\n",
       "      <td>0</td>\n",
       "      <td>0</td>\n",
       "      <td>0</td>\n",
       "      <td>0</td>\n",
       "      <td>0</td>\n",
       "      <td>0</td>\n",
       "    </tr>\n",
       "    <tr>\n",
       "      <th>5</th>\n",
       "      <td>21</td>\n",
       "      <td>COLOURING BOOK LETTERS</td>\n",
       "      <td>NaN</td>\n",
       "      <td>088908152014</td>\n",
       "      <td>NaN</td>\n",
       "      <td>NaN</td>\n",
       "      <td>NaN</td>\n",
       "      <td>NaN</td>\n",
       "      <td>BOOKSHOP</td>\n",
       "      <td>BOOKS</td>\n",
       "      <td>...</td>\n",
       "      <td>0</td>\n",
       "      <td>0</td>\n",
       "      <td>0</td>\n",
       "      <td>0</td>\n",
       "      <td>0</td>\n",
       "      <td>0</td>\n",
       "      <td>0</td>\n",
       "      <td>0</td>\n",
       "      <td>0</td>\n",
       "      <td>0</td>\n",
       "    </tr>\n",
       "  </tbody>\n",
       "</table>\n",
       "<p>5 rows × 72 columns</p>\n",
       "</div>"
      ],
      "text/plain": [
       "  Code                              Description Additional Description  \\\n",
       "1    1                  PRESCHOOL FISHERS PRICE                    NaN   \n",
       "2    3       NOVA NATURAL HOLD HAIR SPRAY 450ML                    NaN   \n",
       "3    6              KINDERGARTEN  FISHERS PRICE                    NaN   \n",
       "4   12  SMART CHEF 8'' PLASTIC STRAINER CH82255                    NaN   \n",
       "5   21                  COLOURING BOOK LETTERS                     NaN   \n",
       "\n",
       "        Bar Code    Bar Code 2 Bar Code 3 Serial Number 2 Serial Number 3  \\\n",
       "1   030099499614  030099499621        NaN    030099499621             NaN   \n",
       "2  5021156120683           NaN        NaN             NaN             NaN   \n",
       "3   030099499638  030099499645        NaN    030099499645             NaN   \n",
       "4   676979822556           NaN        NaN             NaN             NaN   \n",
       "5   088908152014           NaN        NaN             NaN             NaN   \n",
       "\n",
       "   Department            Section  ... Qty AMOUNT  Cost    % M/S % M/C Profit  \\\n",
       "1    BOOKSHOP              BOOKS  ...   0      0     0        0     0      0   \n",
       "2  TOILETRIES      PERSONAL CARE  ...   3   4320  3000  30.5556    44   1320   \n",
       "3    BOOKSHOP              BOOKS  ...   0      0     0        0     0      0   \n",
       "4   HOUSEHOLD  KITCHEN & DINNING  ...   0      0     0        0     0      0   \n",
       "5    BOOKSHOP              BOOKS  ...   0      0     0        0     0      0   \n",
       "\n",
       "  Documents Num Num. Clients Weight UdMedida2  \n",
       "1             0            0      0         0  \n",
       "2             3            2      0         0  \n",
       "3             0            0      0         0  \n",
       "4             0            0      0         0  \n",
       "5             0            0      0         0  \n",
       "\n",
       "[5 rows x 72 columns]"
      ]
     },
     "execution_count": 7,
     "metadata": {},
     "output_type": "execute_result"
    }
   ],
   "source": [
    "sales.head()"
   ]
  },
  {
   "cell_type": "code",
   "execution_count": 8,
   "metadata": {},
   "outputs": [
    {
     "data": {
      "text/plain": [
       "(27178, 72)"
      ]
     },
     "execution_count": 8,
     "metadata": {},
     "output_type": "execute_result"
    }
   ],
   "source": [
    "sales.shape"
   ]
  },
  {
   "cell_type": "code",
   "execution_count": 9,
   "metadata": {},
   "outputs": [
    {
     "data": {
      "text/html": [
       "<div>\n",
       "<style scoped>\n",
       "    .dataframe tbody tr th:only-of-type {\n",
       "        vertical-align: middle;\n",
       "    }\n",
       "\n",
       "    .dataframe tbody tr th {\n",
       "        vertical-align: top;\n",
       "    }\n",
       "\n",
       "    .dataframe thead th {\n",
       "        text-align: right;\n",
       "    }\n",
       "</style>\n",
       "<table border=\"1\" class=\"dataframe\">\n",
       "  <thead>\n",
       "    <tr style=\"text-align: right;\">\n",
       "      <th></th>\n",
       "      <th>Code</th>\n",
       "      <th>Description</th>\n",
       "      <th>Additional Description</th>\n",
       "      <th>Bar Code</th>\n",
       "      <th>Bar Code 2</th>\n",
       "      <th>Bar Code 3</th>\n",
       "      <th>Serial Number 2</th>\n",
       "      <th>Serial Number 3</th>\n",
       "      <th>Department</th>\n",
       "      <th>Section</th>\n",
       "      <th>...</th>\n",
       "      <th>Qty</th>\n",
       "      <th>AMOUNT</th>\n",
       "      <th>Cost</th>\n",
       "      <th>% M/S</th>\n",
       "      <th>% M/C</th>\n",
       "      <th>Profit</th>\n",
       "      <th>Documents Num</th>\n",
       "      <th>Num. Clients</th>\n",
       "      <th>Weight</th>\n",
       "      <th>UdMedida2</th>\n",
       "    </tr>\n",
       "  </thead>\n",
       "  <tbody>\n",
       "    <tr>\n",
       "      <th>count</th>\n",
       "      <td>27177</td>\n",
       "      <td>27174</td>\n",
       "      <td>2</td>\n",
       "      <td>27173</td>\n",
       "      <td>1492</td>\n",
       "      <td>6414</td>\n",
       "      <td>1492</td>\n",
       "      <td>6414</td>\n",
       "      <td>27170</td>\n",
       "      <td>27034</td>\n",
       "      <td>...</td>\n",
       "      <td>27177.0</td>\n",
       "      <td>27178.0</td>\n",
       "      <td>27178.0</td>\n",
       "      <td>27178.0</td>\n",
       "      <td>27178.0</td>\n",
       "      <td>27178.0</td>\n",
       "      <td>27177</td>\n",
       "      <td>27177</td>\n",
       "      <td>27177</td>\n",
       "      <td>27177</td>\n",
       "    </tr>\n",
       "    <tr>\n",
       "      <th>unique</th>\n",
       "      <td>27177</td>\n",
       "      <td>27065</td>\n",
       "      <td>2</td>\n",
       "      <td>27173</td>\n",
       "      <td>1492</td>\n",
       "      <td>6383</td>\n",
       "      <td>1492</td>\n",
       "      <td>6383</td>\n",
       "      <td>13</td>\n",
       "      <td>108</td>\n",
       "      <td>...</td>\n",
       "      <td>592.0</td>\n",
       "      <td>6028.0</td>\n",
       "      <td>4889.0</td>\n",
       "      <td>7703.0</td>\n",
       "      <td>7692.0</td>\n",
       "      <td>7584.0</td>\n",
       "      <td>387</td>\n",
       "      <td>126</td>\n",
       "      <td>1</td>\n",
       "      <td>1</td>\n",
       "    </tr>\n",
       "    <tr>\n",
       "      <th>top</th>\n",
       "      <td>65535</td>\n",
       "      <td>DELIVERY CHARGES</td>\n",
       "      <td>MIXED PASTA</td>\n",
       "      <td>7399687147119</td>\n",
       "      <td>8718951182820</td>\n",
       "      <td>9999920020</td>\n",
       "      <td>8718951182820</td>\n",
       "      <td>9999920020</td>\n",
       "      <td>HOUSEHOLD</td>\n",
       "      <td>PERSONAL CARE</td>\n",
       "      <td>...</td>\n",
       "      <td>0.0</td>\n",
       "      <td>0.0</td>\n",
       "      <td>0.0</td>\n",
       "      <td>0.0</td>\n",
       "      <td>0.0</td>\n",
       "      <td>0.0</td>\n",
       "      <td>0</td>\n",
       "      <td>0</td>\n",
       "      <td>0</td>\n",
       "      <td>0</td>\n",
       "    </tr>\n",
       "    <tr>\n",
       "      <th>freq</th>\n",
       "      <td>1</td>\n",
       "      <td>6</td>\n",
       "      <td>1</td>\n",
       "      <td>1</td>\n",
       "      <td>1</td>\n",
       "      <td>2</td>\n",
       "      <td>1</td>\n",
       "      <td>2</td>\n",
       "      <td>5715</td>\n",
       "      <td>3320</td>\n",
       "      <td>...</td>\n",
       "      <td>18055.0</td>\n",
       "      <td>18065.0</td>\n",
       "      <td>18095.0</td>\n",
       "      <td>18210.0</td>\n",
       "      <td>18240.0</td>\n",
       "      <td>18204.0</td>\n",
       "      <td>17924</td>\n",
       "      <td>17924</td>\n",
       "      <td>27177</td>\n",
       "      <td>27177</td>\n",
       "    </tr>\n",
       "  </tbody>\n",
       "</table>\n",
       "<p>4 rows × 72 columns</p>\n",
       "</div>"
      ],
      "text/plain": [
       "         Code       Description Additional Description       Bar Code  \\\n",
       "count   27177             27174                      2          27173   \n",
       "unique  27177             27065                      2          27173   \n",
       "top     65535  DELIVERY CHARGES            MIXED PASTA  7399687147119   \n",
       "freq        1                 6                      1              1   \n",
       "\n",
       "           Bar Code 2  Bar Code 3 Serial Number 2 Serial Number 3 Department  \\\n",
       "count            1492        6414            1492            6414      27170   \n",
       "unique           1492        6383            1492            6383         13   \n",
       "top     8718951182820  9999920020   8718951182820      9999920020  HOUSEHOLD   \n",
       "freq                1           2               1               2       5715   \n",
       "\n",
       "              Section  ...      Qty   AMOUNT     Cost    % M/S    % M/C  \\\n",
       "count           27034  ...  27177.0  27178.0  27178.0  27178.0  27178.0   \n",
       "unique            108  ...    592.0   6028.0   4889.0   7703.0   7692.0   \n",
       "top     PERSONAL CARE  ...      0.0      0.0      0.0      0.0      0.0   \n",
       "freq             3320  ...  18055.0  18065.0  18095.0  18210.0  18240.0   \n",
       "\n",
       "         Profit Documents Num Num. Clients Weight  UdMedida2  \n",
       "count   27178.0         27177        27177  27177      27177  \n",
       "unique   7584.0           387          126      1          1  \n",
       "top         0.0             0            0      0          0  \n",
       "freq    18204.0         17924        17924  27177      27177  \n",
       "\n",
       "[4 rows x 72 columns]"
      ]
     },
     "execution_count": 9,
     "metadata": {},
     "output_type": "execute_result"
    }
   ],
   "source": [
    "sales.describe()"
   ]
  },
  {
   "cell_type": "code",
   "execution_count": 10,
   "metadata": {},
   "outputs": [
    {
     "name": "stdout",
     "output_type": "stream",
     "text": [
      "<class 'pandas.core.frame.DataFrame'>\n",
      "Int64Index: 27178 entries, 1 to 27178\n",
      "Data columns (total 72 columns):\n",
      " #   Column                  Non-Null Count  Dtype \n",
      "---  ------                  --------------  ----- \n",
      " 0   Code                    27177 non-null  object\n",
      " 1   Description             27174 non-null  object\n",
      " 2   Additional Description  2 non-null      object\n",
      " 3   Bar Code                27173 non-null  object\n",
      " 4   Bar Code 2              1492 non-null   object\n",
      " 5   Bar Code 3              6414 non-null   object\n",
      " 6   Serial Number 2         1492 non-null   object\n",
      " 7   Serial Number 3         6414 non-null   object\n",
      " 8   Department              27170 non-null  object\n",
      " 9   Section                 27034 non-null  object\n",
      " 10  Family                  14939 non-null  object\n",
      " 11  SubFamily               8588 non-null   object\n",
      " 12  Brand                   80 non-null     object\n",
      " 13  Line                    0 non-null      object\n",
      " 14  Reference               27169 non-null  object\n",
      " 15  Propiedad 1             0 non-null      object\n",
      " 16  Propiedad 2             0 non-null      object\n",
      " 17  Propiedad 3             0 non-null      object\n",
      " 18  Measure                 27177 non-null  object\n",
      " 19  UP1                     27177 non-null  object\n",
      " 20  UP2                     27175 non-null  object\n",
      " 21  UP3                     27177 non-null  object\n",
      " 22  UP4                     27177 non-null  object\n",
      " 23  UT                      23343 non-null  object\n",
      " 24  US1                     27176 non-null  object\n",
      " 25  US2                     27174 non-null  object\n",
      " 26  US3                     27177 non-null  object\n",
      " 27  US4                     27177 non-null  object\n",
      " 28  SC?                     27177 non-null  object\n",
      " 29  Weight?                 27177 non-null  object\n",
      " 30  NumSeries?              27177 non-null  object\n",
      " 31  It has Serial Numbers   27177 non-null  object\n",
      " 32  Item Type               27177 non-null  object\n",
      " 33  Unlist                  27177 non-null  object\n",
      " 34  Kit items               27177 non-null  object\n",
      " 35  Date LP                 27177 non-null  object\n",
      " 36  Price LP                27177 non-null  object\n",
      " 37  Price                   27177 non-null  object\n",
      " 38  %Disc LP                27178 non-null  object\n",
      " 39  Last header discount    27178 non-null  object\n",
      " 40  Last cost               27177 non-null  object\n",
      " 41  Average Cost            27177 non-null  object\n",
      " 42  Stock cost              27177 non-null  object\n",
      " 43  Manufacturing           0 non-null      object\n",
      " 44  Date LS                 27177 non-null  object\n",
      " 45  Date Modif              27177 non-null  object\n",
      " 46  Type                    23792 non-null  object\n",
      " 47  Purchase Tax            27177 non-null  object\n",
      " 48  Sale Tax                27175 non-null  object\n",
      " 49  Purchase Acco.Entry     0 non-null      object\n",
      " 50  Sale Acco. Entry        0 non-null      object\n",
      " 51  Purchase Warranty       0 non-null      object\n",
      " 52  Sale Warranty           0 non-null      object\n",
      " 53  Currency Code           27177 non-null  object\n",
      " 54  Currency                27177 non-null  object\n",
      " 55  Picture                 0 non-null      object\n",
      " 56  Season                  0 non-null      object\n",
      " 57  Weight                  27177 non-null  object\n",
      " 58  Format                  0 non-null      object\n",
      " 59  Measure 2               0 non-null      object\n",
      " 60  Charge 1                27177 non-null  object\n",
      " 61  Charge 2                27177 non-null  object\n",
      " 62  Qty                     27177 non-null  object\n",
      " 63  AMOUNT                  27178 non-null  object\n",
      " 64  Cost                    27178 non-null  object\n",
      " 65  % M/S                   27178 non-null  object\n",
      " 66  % M/C                   27178 non-null  object\n",
      " 67  Profit                  27178 non-null  object\n",
      " 68  Documents Num           27177 non-null  object\n",
      " 69  Num. Clients            27177 non-null  object\n",
      " 70  Weight                  27177 non-null  object\n",
      " 71  UdMedida2               27177 non-null  object\n",
      "dtypes: object(72)\n",
      "memory usage: 15.1+ MB\n"
     ]
    }
   ],
   "source": [
    "sales.info()"
   ]
  },
  {
   "cell_type": "markdown",
   "metadata": {},
   "source": [
    "### Percentage of missing values"
   ]
  },
  {
   "cell_type": "code",
   "execution_count": 11,
   "metadata": {},
   "outputs": [],
   "source": [
    "pd.pandas.set_option('display.max_rows', None)"
   ]
  },
  {
   "cell_type": "code",
   "execution_count": 12,
   "metadata": {
    "scrolled": false
   },
   "outputs": [
    {
     "data": {
      "text/plain": [
       "Code                        0.00\n",
       "Description                 0.01\n",
       "Additional Description     99.99\n",
       "Bar Code                    0.02\n",
       "Bar Code 2                 94.51\n",
       "Bar Code 3                 76.40\n",
       "Serial Number 2            94.51\n",
       "Serial Number 3            76.40\n",
       "Department                  0.03\n",
       "Section                     0.53\n",
       "Family                     45.03\n",
       "SubFamily                  68.40\n",
       "Brand                      99.71\n",
       "Line                      100.00\n",
       "Reference                   0.03\n",
       "Propiedad 1               100.00\n",
       "Propiedad 2               100.00\n",
       "Propiedad 3               100.00\n",
       "Measure                     0.00\n",
       "UP1                         0.00\n",
       "UP2                         0.01\n",
       "UP3                         0.00\n",
       "UP4                         0.00\n",
       "UT                         14.11\n",
       "US1                         0.01\n",
       "US2                         0.01\n",
       "US3                         0.00\n",
       "US4                         0.00\n",
       "SC?                         0.00\n",
       "Weight?                     0.00\n",
       "NumSeries?                  0.00\n",
       "It has Serial Numbers       0.00\n",
       "Item Type                   0.00\n",
       "Unlist                      0.00\n",
       "Kit items                   0.00\n",
       "Date LP                     0.00\n",
       "Price LP                    0.00\n",
       "Price                       0.00\n",
       "%Disc LP                    0.00\n",
       "Last header discount        0.00\n",
       "Last cost                   0.00\n",
       "Average Cost                0.00\n",
       "Stock cost                  0.00\n",
       "Manufacturing             100.00\n",
       "Date LS                     0.00\n",
       "Date Modif                  0.00\n",
       "Type                       12.46\n",
       "Purchase Tax                0.00\n",
       "Sale Tax                    0.01\n",
       "Purchase Acco.Entry       100.00\n",
       "Sale Acco. Entry          100.00\n",
       "Purchase Warranty         100.00\n",
       "Sale Warranty             100.00\n",
       "Currency Code               0.00\n",
       "Currency                    0.00\n",
       "Picture                   100.00\n",
       "Season                    100.00\n",
       "Weight                      0.00\n",
       "Format                    100.00\n",
       "Measure 2                 100.00\n",
       "Charge 1                    0.00\n",
       "Charge 2                    0.00\n",
       "Qty                         0.00\n",
       "AMOUNT                      0.00\n",
       "Cost                        0.00\n",
       "% M/S                       0.00\n",
       "% M/C                       0.00\n",
       "Profit                      0.00\n",
       "Documents Num               0.00\n",
       "Num. Clients                0.00\n",
       "Weight                      0.00\n",
       "UdMedida2                   0.00\n",
       "dtype: float64"
      ]
     },
     "execution_count": 12,
     "metadata": {},
     "output_type": "execute_result"
    }
   ],
   "source": [
    "sales.isna().mean().round(4) * 100"
   ]
  },
  {
   "cell_type": "markdown",
   "metadata": {},
   "source": [
    "#Given a dataframe sales create a copy of the array that is 0 if a field contains a value \n",
    "#and 1 for NaN\n",
    "naInfo = np.zeros(sales.shape)\n",
    "naInfo[sales.isna().values] = 1\n",
    "naInfo = pd.DataFrame(naInfo, columns=sales.columns)\n",
    "\n",
    "fig, ax = plt.subplots()\n",
    "fig.set_size_inches(13, 9)\n",
    "ax = sns.heatmap(naInfo, vmin=0, vmax=1, cmap=[\"white\", \"#444444\"], cbar=False, ax=ax)\n",
    "ax.set_yticks([])\n",
    "\n",
    "rect = plt.Rectangle((0, 0), naInfo.shape[1], naInfo.shape[0], linewidth=1, \n",
    "                     edgecolor='lightgrey',facecolor='none')\n",
    "rect = ax.add_patch(rect)\n",
    "rect.set_clip_on(False)\n",
    "\n",
    "plt.xticks(rotation=80)\n",
    "plt.tight_layout()\n",
    "plt.show()"
   ]
  },
  {
   "cell_type": "code",
   "execution_count": 13,
   "metadata": {},
   "outputs": [
    {
     "data": {
      "text/plain": [
       "Code                                            1\n",
       "Description               PRESCHOOL FISHERS PRICE\n",
       "Additional Description                        NaN\n",
       "Bar Code                             030099499614\n",
       "Bar Code 2                           030099499621\n",
       "Bar Code 3                                    NaN\n",
       "Serial Number 2                      030099499621\n",
       "Serial Number 3                               NaN\n",
       "Department                               BOOKSHOP\n",
       "Section                                     BOOKS\n",
       "Family                                STORY BOOKS\n",
       "SubFamily                                     NaN\n",
       "Brand                                         NaN\n",
       "Line                                          NaN\n",
       "Reference                            030099499614\n",
       "Propiedad 1                                   NaN\n",
       "Propiedad 2                                   NaN\n",
       "Propiedad 3                                   NaN\n",
       "Measure                                        1 \n",
       "UP1                                             1\n",
       "UP2                                             1\n",
       "UP3                                             1\n",
       "UP4                                             1\n",
       "UT                                              0\n",
       "US1                                             1\n",
       "US2                                             1\n",
       "US3                                             1\n",
       "US4                                             1\n",
       "SC?                                             F\n",
       "Weight?                                         F\n",
       "NumSeries?                                      F\n",
       "It has Serial Numbers                           F\n",
       "Item Type                                       A\n",
       "Unlist                                          F\n",
       "Kit items                                       F\n",
       "Date LP                                25/11/2015\n",
       "Price LP                                   259.62\n",
       "Price                                      259.62\n",
       "%Disc LP                                        0\n",
       "Last header discount                            0\n",
       "Last cost                                  259.62\n",
       "Average Cost                               259.62\n",
       "Stock cost                                 259.62\n",
       "Manufacturing                                 NaN\n",
       "Date LS                                21/11/2019\n",
       "Date Modif                             23/02/2021\n",
       "Type                                            0\n",
       "Purchase Tax                                    2\n",
       "Sale Tax                                        2\n",
       "Purchase Acco.Entry                           NaN\n",
       "Sale Acco. Entry                              NaN\n",
       "Purchase Warranty                             NaN\n",
       "Sale Warranty                                 NaN\n",
       "Currency Code                                   1\n",
       "Currency                                    Naira\n",
       "Picture                                       NaN\n",
       "Season                                        NaN\n",
       "Weight                                          0\n",
       "Format                                        NaN\n",
       "Measure 2                                     NaN\n",
       "Charge 1                                        0\n",
       "Charge 2                                        0\n",
       "Qty                                             0\n",
       "AMOUNT                                          0\n",
       "Cost                                            0\n",
       "% M/S                                           0\n",
       "% M/C                                           0\n",
       "Profit                                          0\n",
       "Documents Num                                   0\n",
       "Num. Clients                                    0\n",
       "Weight                                          0\n",
       "UdMedida2                                       0\n",
       "Name: 1, dtype: object"
      ]
     },
     "execution_count": 13,
     "metadata": {},
     "output_type": "execute_result"
    }
   ],
   "source": [
    "sales.iloc[0]"
   ]
  },
  {
   "cell_type": "code",
   "execution_count": 14,
   "metadata": {},
   "outputs": [],
   "source": [
    "per_cent_missing_value_100 = ['Line', 'Propiedad 1', 'Propiedad 2', 'Propiedad 3', 'Manufacturing', 'Purchase Acco.Entry', 'Sale Acco. Entry', 'Purchase Warranty', 'Sale Warranty', 'Picture', 'Season', 'Format', 'Measure 2']"
   ]
  },
  {
   "cell_type": "code",
   "execution_count": 15,
   "metadata": {},
   "outputs": [
    {
     "data": {
      "text/plain": [
       "array([1, 3, 6, ..., 67609, 67610, nan], dtype=object)"
      ]
     },
     "execution_count": 15,
     "metadata": {},
     "output_type": "execute_result"
    }
   ],
   "source": [
    "sales['Code'].unique()"
   ]
  },
  {
   "cell_type": "code",
   "execution_count": 16,
   "metadata": {},
   "outputs": [
    {
     "data": {
      "text/plain": [
       "array(['PRESCHOOL FISHERS PRICE', 'NOVA NATURAL HOLD HAIR SPRAY 450ML',\n",
       "       'KINDERGARTEN  FISHERS PRICE', ...,\n",
       "       'CADBURY DAIRY MILK CCARAMELLO 480ML',\n",
       "       'GIFTMAKER GIFT BAG BLUE & GOLD YAKGB01X', 'GIZZARD VINE DRESSER'],\n",
       "      dtype=object)"
      ]
     },
     "execution_count": 16,
     "metadata": {},
     "output_type": "execute_result"
    }
   ],
   "source": [
    "sales['Description'].unique()"
   ]
  },
  {
   "cell_type": "code",
   "execution_count": 17,
   "metadata": {},
   "outputs": [
    {
     "data": {
      "text/plain": [
       "array([0, nan], dtype=object)"
      ]
     },
     "execution_count": 17,
     "metadata": {},
     "output_type": "execute_result"
    }
   ],
   "source": [
    "sales['Charge 1'].unique()"
   ]
  },
  {
   "cell_type": "code",
   "execution_count": 18,
   "metadata": {},
   "outputs": [
    {
     "data": {
      "text/plain": [
       "array([0, nan], dtype=object)"
      ]
     },
     "execution_count": 18,
     "metadata": {},
     "output_type": "execute_result"
    }
   ],
   "source": [
    "sales['Charge 2'].unique()"
   ]
  },
  {
   "cell_type": "code",
   "execution_count": 37,
   "metadata": {},
   "outputs": [
    {
     "data": {
      "text/plain": [
       "592"
      ]
     },
     "execution_count": 37,
     "metadata": {},
     "output_type": "execute_result"
    }
   ],
   "source": [
    "sales['Qty'].nunique()"
   ]
  },
  {
   "cell_type": "code",
   "execution_count": 38,
   "metadata": {},
   "outputs": [
    {
     "data": {
      "text/plain": [
       "6028"
      ]
     },
     "execution_count": 38,
     "metadata": {},
     "output_type": "execute_result"
    }
   ],
   "source": [
    "sales['AMOUNT'].nunique()"
   ]
  },
  {
   "cell_type": "code",
   "execution_count": 39,
   "metadata": {},
   "outputs": [
    {
     "data": {
      "text/plain": [
       "4889"
      ]
     },
     "execution_count": 39,
     "metadata": {},
     "output_type": "execute_result"
    }
   ],
   "source": [
    "sales['Cost'].nunique()"
   ]
  },
  {
   "cell_type": "code",
   "execution_count": 40,
   "metadata": {},
   "outputs": [
    {
     "data": {
      "text/plain": [
       "7703"
      ]
     },
     "execution_count": 40,
     "metadata": {},
     "output_type": "execute_result"
    }
   ],
   "source": [
    "sales['% M/S'].nunique()"
   ]
  },
  {
   "cell_type": "code",
   "execution_count": 23,
   "metadata": {},
   "outputs": [
    {
     "data": {
      "text/plain": [
       "array([0, 44, 22.170265660060807, ..., 27.751937984496124,\n",
       "       14.38076923076923, 40.99410077749194], dtype=object)"
      ]
     },
     "execution_count": 23,
     "metadata": {},
     "output_type": "execute_result"
    }
   ],
   "source": [
    "sales['% M/C'].unique()"
   ]
  },
  {
   "cell_type": "code",
   "execution_count": 24,
   "metadata": {},
   "outputs": [
    {
     "data": {
      "text/plain": [
       "array([0, 1320, 12360.3000000001, ..., 3580, 6356.3, 77920805.12561846],\n",
       "      dtype=object)"
      ]
     },
     "execution_count": 24,
     "metadata": {},
     "output_type": "execute_result"
    }
   ],
   "source": [
    "sales['Profit'].unique()"
   ]
  },
  {
   "cell_type": "code",
   "execution_count": 25,
   "metadata": {},
   "outputs": [
    {
     "data": {
      "text/plain": [
       "array([0, 3, 123, 81, 159, 1, 27, 2, 15, 10, 8, 113, 121, 4, 50, 36, 19,\n",
       "       12, 9, 14, 5, 17, 7, 54, 110, 377, 296, 47, 76, 79, 39, 139, 108,\n",
       "       41, 18, 28, 6, 29, 11, 43, 16, 22, 13, 20, 69, 51, 82, 131, 25, 74,\n",
       "       48, 21, 192, 83, 126, 57, 78, 471, 148, 61, 136, 26, 37, 92, 170,\n",
       "       66, 65, 178, 87, 24, 119, 56, 23, 198, 30, 42, 46, 40, 58, 63, 120,\n",
       "       94, 68, 33, 52, 430, 34, 44, 100, 640, 546, 2336, 394, 107, 73,\n",
       "       182, 49, 4400, 7509, 3037, 93, 363, 763, 290, 1373, 3749, 244, 470,\n",
       "       80, 1045, 71, 444, 199, 206, 607, 1582, 383, 265, 837, 245, 179,\n",
       "       154, 138, 385, 188, 96, 739, 382, 84, 127, 67, 359, 32, 257, 118,\n",
       "       140, 102, 70, 31, 172, 999, 177, 185, 282, 365, 314, 886, 168,\n",
       "       1601, 351, 761, 1371, 248, 62, 64, 98, 180, 35, 906, 181, 77, 536,\n",
       "       112, 122, 75, 146, 149, 353, 308, 132, 332, 246, 167, 1814, 595,\n",
       "       1363, 288, 15135, 5101, 3777, 9516, 497, 1544, 3545, 638, 3554,\n",
       "       582, 4019, 2006, 2437, 4354, 2427, 1391, 2385, 176, 89, 1608, 156,\n",
       "       128, 133, 625, 333, 45, 209, 1040, 476, 442, 195, 135, 59, 190,\n",
       "       597, 85, 443, 587, 171, 532, 151, 798, 396, 55, 90, 124, 114, 669,\n",
       "       626, 438, 117, 130, 5549, 97, 91, 165, 381, 371, 72, 462, 460, 808,\n",
       "       187, 320, 234, 163, 1075, 336, 306, 101, 104, 137, 222, 141, 38,\n",
       "       60, 452, 405, 253, 161, 142, 1773, 1395, 162, 947, 391, 935, 263,\n",
       "       264, 115, 106, 205, 116, 324, 27211, 4695, 2218, 6233, 196, 143,\n",
       "       551, 95, 367, 390, 213, 88, 26720, 169, 147, 53, 99, 105, 545, 362,\n",
       "       144, 225, 111, 1288, 153, 9629, 219, 134, 215, 202, 319, 400, 273,\n",
       "       277, 270, 343, 186, 563, 697, 508, 103, 1308, 109, 200, 562, 86,\n",
       "       426, 295, 407, 155, 635, 860, 1060, 173, 1151, 204, 1022, 233, 495,\n",
       "       411, 423, 447, 339, 450, 129, 399, 553, 201, 318, 164, 368, 1083,\n",
       "       680, 630, 184, 342, 298, 230, 210, 461, 1089, 1572, 7718, 692, 378,\n",
       "       1051, 984, 868, 456, 392, 548, 387, 157, 667, 218, 275, 256, 236,\n",
       "       498, 464, 370, 166, 440, 317, 657, 261, 1948, 589, 226, 940, 493,\n",
       "       539, 703, 217, 2317, 229, nan], dtype=object)"
      ]
     },
     "execution_count": 25,
     "metadata": {},
     "output_type": "execute_result"
    }
   ],
   "source": [
    "sales['Documents Num'].unique()"
   ]
  },
  {
   "cell_type": "code",
   "execution_count": 26,
   "metadata": {},
   "outputs": [
    {
     "data": {
      "text/plain": [
       "array([nan, 'MALTINA PACK OF 6', 'MIXED PASTA'], dtype=object)"
      ]
     },
     "execution_count": 26,
     "metadata": {},
     "output_type": "execute_result"
    }
   ],
   "source": [
    "sales['Additional Description'].unique()"
   ]
  },
  {
   "cell_type": "code",
   "execution_count": 27,
   "metadata": {},
   "outputs": [
    {
     "data": {
      "text/html": [
       "<div>\n",
       "<style scoped>\n",
       "    .dataframe tbody tr th:only-of-type {\n",
       "        vertical-align: middle;\n",
       "    }\n",
       "\n",
       "    .dataframe tbody tr th {\n",
       "        vertical-align: top;\n",
       "    }\n",
       "\n",
       "    .dataframe thead th {\n",
       "        text-align: right;\n",
       "    }\n",
       "</style>\n",
       "<table border=\"1\" class=\"dataframe\">\n",
       "  <thead>\n",
       "    <tr style=\"text-align: right;\">\n",
       "      <th></th>\n",
       "      <th>Description</th>\n",
       "      <th>Additional Description</th>\n",
       "    </tr>\n",
       "  </thead>\n",
       "  <tbody>\n",
       "    <tr>\n",
       "      <th>3995</th>\n",
       "      <td>MALTINA CLASSIC 33CL CAN 6PCS</td>\n",
       "      <td>MALTINA PACK OF 6</td>\n",
       "    </tr>\n",
       "  </tbody>\n",
       "</table>\n",
       "</div>"
      ],
      "text/plain": [
       "                        Description Additional Description\n",
       "3995  MALTINA CLASSIC 33CL CAN 6PCS      MALTINA PACK OF 6"
      ]
     },
     "execution_count": 27,
     "metadata": {},
     "output_type": "execute_result"
    }
   ],
   "source": [
    "sales[sales['Additional Description'] == 'MALTINA PACK OF 6'][['Description', 'Additional Description']]"
   ]
  },
  {
   "cell_type": "code",
   "execution_count": 28,
   "metadata": {},
   "outputs": [
    {
     "data": {
      "text/html": [
       "<div>\n",
       "<style scoped>\n",
       "    .dataframe tbody tr th:only-of-type {\n",
       "        vertical-align: middle;\n",
       "    }\n",
       "\n",
       "    .dataframe tbody tr th {\n",
       "        vertical-align: top;\n",
       "    }\n",
       "\n",
       "    .dataframe thead th {\n",
       "        text-align: right;\n",
       "    }\n",
       "</style>\n",
       "<table border=\"1\" class=\"dataframe\">\n",
       "  <thead>\n",
       "    <tr style=\"text-align: right;\">\n",
       "      <th></th>\n",
       "      <th>Description</th>\n",
       "      <th>Additional Description</th>\n",
       "    </tr>\n",
       "  </thead>\n",
       "  <tbody>\n",
       "    <tr>\n",
       "      <th>10245</th>\n",
       "      <td>MIXED PASTA</td>\n",
       "      <td>MIXED PASTA</td>\n",
       "    </tr>\n",
       "  </tbody>\n",
       "</table>\n",
       "</div>"
      ],
      "text/plain": [
       "       Description Additional Description\n",
       "10245  MIXED PASTA            MIXED PASTA"
      ]
     },
     "execution_count": 28,
     "metadata": {},
     "output_type": "execute_result"
    }
   ],
   "source": [
    "sales[sales['Additional Description'] == 'MIXED PASTA'][['Description', 'Additional Description']]"
   ]
  },
  {
   "cell_type": "code",
   "execution_count": 29,
   "metadata": {},
   "outputs": [
    {
     "data": {
      "text/plain": [
       "array(['BOOKSHOP', 'TOILETRIES', 'HOUSEHOLD', 'HEALTH & BEAUTY PRODUCTS',\n",
       "       'BABY PRODUCT', 'GROCERY', 'FRESH FOOD', '3F', 'TOYS',\n",
       "       'RAW MATERIALS', nan, 'HAMPER', 'ENTERTAINMENT', 'ASSET '],\n",
       "      dtype=object)"
      ]
     },
     "execution_count": 29,
     "metadata": {},
     "output_type": "execute_result"
    }
   ],
   "source": [
    "sales['Department'].unique()"
   ]
  },
  {
   "cell_type": "code",
   "execution_count": 30,
   "metadata": {},
   "outputs": [
    {
     "data": {
      "text/plain": [
       "array(['030099499614', '5021156120683', '030099499638', ...,\n",
       "       '6009198000933', '5012213483605', '608887018974'], dtype=object)"
      ]
     },
     "execution_count": 30,
     "metadata": {},
     "output_type": "execute_result"
    }
   ],
   "source": [
    "sales['Reference'].unique()"
   ]
  },
  {
   "cell_type": "markdown",
   "metadata": {},
   "source": [
    "Inestigate measure variable. The values don't seem to make sense"
   ]
  },
  {
   "cell_type": "code",
   "execution_count": 31,
   "metadata": {},
   "outputs": [
    {
     "data": {
      "text/plain": [
       "1                  27040\n",
       "1000 GRAMMES         103\n",
       "1000 milliliter        8\n",
       "1000 GRAMME            8\n",
       "1 Qty.                 6\n",
       "1000 grammes           5\n",
       "1000 GRAMM             3\n",
       "1 GRAM                 1\n",
       "1000 gramme            1\n",
       "1000 GRAMEES           1\n",
       "1000 GRAMES            1\n",
       "Name: Measure, dtype: int64"
      ]
     },
     "execution_count": 31,
     "metadata": {},
     "output_type": "execute_result"
    }
   ],
   "source": [
    "sales['Measure'].value_counts()"
   ]
  },
  {
   "cell_type": "code",
   "execution_count": 32,
   "metadata": {},
   "outputs": [
    {
     "data": {
      "text/plain": [
       "1     27176\n",
       "60        1\n",
       "Name: UP1, dtype: int64"
      ]
     },
     "execution_count": 32,
     "metadata": {},
     "output_type": "execute_result"
    }
   ],
   "source": [
    "#what does UP1 mean?\n",
    "sales['UP1'].value_counts()"
   ]
  },
  {
   "cell_type": "markdown",
   "metadata": {},
   "source": [
    "per_cent_missing_value_100 = ['Line', 'Propiedad 1', 'Propiedad 2', 'Propiedad 3', 'Manufacturing', 'Purchase Acco.Entry', 'Sale Acco. Entry', 'Purchase Warranty', 'Sale Warranty', 'Picture', 'Season', 'Format', 'Measure 2']\n",
    "\n",
    "'Code', 'Description', 'Additional Description', 'Bar Code',\n",
    "'Bar Code 2', 'Bar Code 3', 'Serial Number 2', 'Serial Number 3',\n",
    "'Department', 'Section', 'Family', 'SubFamily', 'Brand', \n",
    "'Reference',  'Measure', 'UP1', 'UP2', 'UP3', 'UP4', 'UT ', \n",
    "'US1', 'US2', 'US3', 'US4', 'SC?','Weight?', 'NumSeries?', \n",
    "'It has Serial Numbers', 'Item Type', 'Unlist', 'Kit items', 'Date LP', \n",
    "'Price LP', 'Price', '%Disc LP','Last header discount', 'Last cost', \n",
    "'Average Cost', 'Stock cost', 'Date LS', 'Date Modif', 'Type', 'Purchase Tax',\n",
    "'Sale Tax', 'Currency Code', 'Currency', 'Weight', 'Charge 1',\n",
    "'Charge 2', 'Qty', 'AMOUNT', 'Cost', '% M/S', '% M/C', 'Profit',\n",
    "'Documents Num', 'Num. Clients', 'Weight', 'UdMedida2'\n",
    "\n",
    "For 'Code' do a comparism with another month to see if it is consistent with each SKU\n",
    "\n",
    "convert_to_dummy = ['Department,'\n",
    "\n",
    "columns_to_drop = ['Description', 'Bar Code', 'Bar Code 2', 'Bar Code 3', 'Serial Number 2', 'Serial Number 3', 'Section', 'Family', 'SubFamily', 'Brand', 'Reference', 'Measure', 'UP1', \n",
    "\n",
    "\n",
    "important_variables_to_sales = ['Department, '"
   ]
  },
  {
   "cell_type": "code",
   "execution_count": 33,
   "metadata": {},
   "outputs": [
    {
     "data": {
      "text/plain": [
       "True     26611\n",
       "False      567\n",
       "dtype: int64"
      ]
     },
     "execution_count": 33,
     "metadata": {},
     "output_type": "execute_result"
    }
   ],
   "source": [
    "bf = sales['Bar Code'] == sales['Reference']\n",
    "bf.value_counts()"
   ]
  },
  {
   "cell_type": "markdown",
   "metadata": {},
   "source": [
    "In most cases, bar code is usually the same as reference"
   ]
  },
  {
   "cell_type": "code",
   "execution_count": 34,
   "metadata": {},
   "outputs": [
    {
     "data": {
      "text/html": [
       "<div>\n",
       "<style scoped>\n",
       "    .dataframe tbody tr th:only-of-type {\n",
       "        vertical-align: middle;\n",
       "    }\n",
       "\n",
       "    .dataframe tbody tr th {\n",
       "        vertical-align: top;\n",
       "    }\n",
       "\n",
       "    .dataframe thead th {\n",
       "        text-align: right;\n",
       "    }\n",
       "</style>\n",
       "<table border=\"1\" class=\"dataframe\">\n",
       "  <thead>\n",
       "    <tr style=\"text-align: right;\">\n",
       "      <th></th>\n",
       "      <th>Code</th>\n",
       "      <th>Description</th>\n",
       "      <th>Additional Description</th>\n",
       "      <th>Bar Code</th>\n",
       "      <th>Bar Code 2</th>\n",
       "      <th>Bar Code 3</th>\n",
       "      <th>Serial Number 2</th>\n",
       "      <th>Serial Number 3</th>\n",
       "      <th>Department</th>\n",
       "      <th>Section</th>\n",
       "      <th>...</th>\n",
       "      <th>Qty</th>\n",
       "      <th>AMOUNT</th>\n",
       "      <th>Cost</th>\n",
       "      <th>% M/S</th>\n",
       "      <th>% M/C</th>\n",
       "      <th>Profit</th>\n",
       "      <th>Documents Num</th>\n",
       "      <th>Num. Clients</th>\n",
       "      <th>Weight</th>\n",
       "      <th>UdMedida2</th>\n",
       "    </tr>\n",
       "  </thead>\n",
       "  <tbody>\n",
       "    <tr>\n",
       "      <th>25528</th>\n",
       "      <td>65852</td>\n",
       "      <td>CROCHET ADULT FACE MASK</td>\n",
       "      <td>NaN</td>\n",
       "      <td>745488</td>\n",
       "      <td>NaN</td>\n",
       "      <td>9999745488</td>\n",
       "      <td>NaN</td>\n",
       "      <td>9999745488</td>\n",
       "      <td>HEALTH &amp; BEAUTY PRODUCTS</td>\n",
       "      <td>CLOTHING &amp; SHOE</td>\n",
       "      <td>...</td>\n",
       "      <td>0</td>\n",
       "      <td>0</td>\n",
       "      <td>0</td>\n",
       "      <td>0</td>\n",
       "      <td>0</td>\n",
       "      <td>0</td>\n",
       "      <td>0</td>\n",
       "      <td>0</td>\n",
       "      <td>0</td>\n",
       "      <td>0</td>\n",
       "    </tr>\n",
       "    <tr>\n",
       "      <th>13738</th>\n",
       "      <td>50857</td>\n",
       "      <td>LONTOR RECHARGEABLE LED TOUCH CTL-TH300A</td>\n",
       "      <td>NaN</td>\n",
       "      <td>6939009673158</td>\n",
       "      <td>NaN</td>\n",
       "      <td>NaN</td>\n",
       "      <td>NaN</td>\n",
       "      <td>NaN</td>\n",
       "      <td>HOUSEHOLD</td>\n",
       "      <td>HOME APPLIANCE</td>\n",
       "      <td>...</td>\n",
       "      <td>0</td>\n",
       "      <td>0</td>\n",
       "      <td>0</td>\n",
       "      <td>0</td>\n",
       "      <td>0</td>\n",
       "      <td>0</td>\n",
       "      <td>0</td>\n",
       "      <td>0</td>\n",
       "      <td>0</td>\n",
       "      <td>0</td>\n",
       "    </tr>\n",
       "    <tr>\n",
       "      <th>26108</th>\n",
       "      <td>66488</td>\n",
       "      <td>SECOND FORM AT MALORY TOWERS EMID BLYTON</td>\n",
       "      <td>NaN</td>\n",
       "      <td>9781444929881</td>\n",
       "      <td>NaN</td>\n",
       "      <td>NaN</td>\n",
       "      <td>NaN</td>\n",
       "      <td>NaN</td>\n",
       "      <td>BOOKSHOP</td>\n",
       "      <td>BOOKS</td>\n",
       "      <td>...</td>\n",
       "      <td>0</td>\n",
       "      <td>0</td>\n",
       "      <td>0</td>\n",
       "      <td>0</td>\n",
       "      <td>0</td>\n",
       "      <td>0</td>\n",
       "      <td>0</td>\n",
       "      <td>0</td>\n",
       "      <td>0</td>\n",
       "      <td>0</td>\n",
       "    </tr>\n",
       "    <tr>\n",
       "      <th>19724</th>\n",
       "      <td>59173</td>\n",
       "      <td>PICKWICK STRAWBERRY WAFER 60G</td>\n",
       "      <td>NaN</td>\n",
       "      <td>8902041017448</td>\n",
       "      <td>NaN</td>\n",
       "      <td>NaN</td>\n",
       "      <td>NaN</td>\n",
       "      <td>NaN</td>\n",
       "      <td>GROCERY</td>\n",
       "      <td>CONFECTIONARIES</td>\n",
       "      <td>...</td>\n",
       "      <td>0</td>\n",
       "      <td>0</td>\n",
       "      <td>0</td>\n",
       "      <td>0</td>\n",
       "      <td>0</td>\n",
       "      <td>0</td>\n",
       "      <td>0</td>\n",
       "      <td>0</td>\n",
       "      <td>0</td>\n",
       "      <td>0</td>\n",
       "    </tr>\n",
       "    <tr>\n",
       "      <th>16212</th>\n",
       "      <td>54492</td>\n",
       "      <td>ADS COSMATIC 3D MASCARA WATERPROOF 10ML</td>\n",
       "      <td>NaN</td>\n",
       "      <td>6950420152398</td>\n",
       "      <td>NaN</td>\n",
       "      <td>NaN</td>\n",
       "      <td>NaN</td>\n",
       "      <td>NaN</td>\n",
       "      <td>HEALTH &amp; BEAUTY PRODUCTS</td>\n",
       "      <td>MAKE-UP</td>\n",
       "      <td>...</td>\n",
       "      <td>0</td>\n",
       "      <td>0</td>\n",
       "      <td>0</td>\n",
       "      <td>0</td>\n",
       "      <td>0</td>\n",
       "      <td>0</td>\n",
       "      <td>0</td>\n",
       "      <td>0</td>\n",
       "      <td>0</td>\n",
       "      <td>0</td>\n",
       "    </tr>\n",
       "  </tbody>\n",
       "</table>\n",
       "<p>5 rows × 72 columns</p>\n",
       "</div>"
      ],
      "text/plain": [
       "        Code                               Description Additional Description  \\\n",
       "25528  65852                   CROCHET ADULT FACE MASK                    NaN   \n",
       "13738  50857  LONTOR RECHARGEABLE LED TOUCH CTL-TH300A                    NaN   \n",
       "26108  66488  SECOND FORM AT MALORY TOWERS EMID BLYTON                    NaN   \n",
       "19724  59173             PICKWICK STRAWBERRY WAFER 60G                    NaN   \n",
       "16212  54492   ADS COSMATIC 3D MASCARA WATERPROOF 10ML                    NaN   \n",
       "\n",
       "            Bar Code Bar Code 2  Bar Code 3 Serial Number 2 Serial Number 3  \\\n",
       "25528         745488        NaN  9999745488             NaN      9999745488   \n",
       "13738  6939009673158        NaN         NaN             NaN             NaN   \n",
       "26108  9781444929881        NaN         NaN             NaN             NaN   \n",
       "19724  8902041017448        NaN         NaN             NaN             NaN   \n",
       "16212  6950420152398        NaN         NaN             NaN             NaN   \n",
       "\n",
       "                     Department          Section  ... Qty AMOUNT Cost % M/S  \\\n",
       "25528  HEALTH & BEAUTY PRODUCTS  CLOTHING & SHOE  ...   0      0    0     0   \n",
       "13738                 HOUSEHOLD   HOME APPLIANCE  ...   0      0    0     0   \n",
       "26108                  BOOKSHOP            BOOKS  ...   0      0    0     0   \n",
       "19724                   GROCERY  CONFECTIONARIES  ...   0      0    0     0   \n",
       "16212  HEALTH & BEAUTY PRODUCTS          MAKE-UP  ...   0      0    0     0   \n",
       "\n",
       "      % M/C Profit Documents Num Num. Clients Weight UdMedida2  \n",
       "25528     0      0             0            0      0         0  \n",
       "13738     0      0             0            0      0         0  \n",
       "26108     0      0             0            0      0         0  \n",
       "19724     0      0             0            0      0         0  \n",
       "16212     0      0             0            0      0         0  \n",
       "\n",
       "[5 rows x 72 columns]"
      ]
     },
     "execution_count": 34,
     "metadata": {},
     "output_type": "execute_result"
    }
   ],
   "source": [
    "sales.sample(5)"
   ]
  },
  {
   "cell_type": "code",
   "execution_count": 35,
   "metadata": {},
   "outputs": [],
   "source": [
    "bool_comp = sales['Price LP'] == sales['Price']"
   ]
  },
  {
   "cell_type": "code",
   "execution_count": 36,
   "metadata": {},
   "outputs": [
    {
     "data": {
      "text/plain": [
       "True     24639\n",
       "False     2539\n",
       "dtype: int64"
      ]
     },
     "execution_count": 36,
     "metadata": {},
     "output_type": "execute_result"
    }
   ],
   "source": [
    "bool_comp.value_counts()"
   ]
  },
  {
   "cell_type": "markdown",
   "metadata": {},
   "source": [
    "Within the timeframe considered, there were 24,597 cases where Price LP was same as Price and 2,535 cases where Price LP wasn't \n",
    "same as Price"
   ]
  },
  {
   "cell_type": "code",
   "execution_count": null,
   "metadata": {},
   "outputs": [],
   "source": []
  }
 ],
 "metadata": {
  "kernelspec": {
   "display_name": "Python 3",
   "language": "python",
   "name": "python3"
  },
  "language_info": {
   "codemirror_mode": {
    "name": "ipython",
    "version": 3
   },
   "file_extension": ".py",
   "mimetype": "text/x-python",
   "name": "python",
   "nbconvert_exporter": "python",
   "pygments_lexer": "ipython3",
   "version": "3.7.6"
  }
 },
 "nbformat": 4,
 "nbformat_minor": 4
}
